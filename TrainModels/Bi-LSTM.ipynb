{
  "cells": [
    {
      "cell_type": "markdown",
      "metadata": {
        "id": "ENEQ8JT6rwjP"
      },
      "source": [
        "### Import Libraries"
      ]
    },
    {
      "cell_type": "markdown",
      "metadata": {
        "id": "FSF5YboLsAi6"
      },
      "source": [
        "# New Section"
      ]
    },
    {
      "cell_type": "code",
      "execution_count": 1,
      "metadata": {
        "id": "89hmCOwBrwjR"
      },
      "outputs": [],
      "source": [
        "\n",
        "import numpy as np\n",
        "import pandas as pd\n",
        "import glob\n",
        "import time\n",
        "import pandas as pd\n",
        "# from xml.dom import minidom\n",
        "\n",
        "import os\n",
        "import matplotlib.pyplot as plt\n",
        "import keras\n",
        "\n",
        "import cv2"
      ]
    },
    {
      "cell_type": "code",
      "execution_count": 2,
      "metadata": {
        "id": "_vVoKWFBrwjT"
      },
      "outputs": [],
      "source": [
        "df=pd.read_csv('../dataset/XSS_dataset_11.csv', encoding='utf-8-sig',sep=',')"
      ]
    },
    {
      "cell_type": "code",
      "execution_count": 3,
      "metadata": {
        "colab": {
          "base_uri": "https://localhost:8080/",
          "height": 206
        },
        "id": "aAek9euCrwjT",
        "outputId": "c011fece-0b9b-45fd-87b6-892348b9ba11"
      },
      "outputs": [
        {
          "data": {
            "text/html": [
              "<div>\n",
              "<style scoped>\n",
              "    .dataframe tbody tr th:only-of-type {\n",
              "        vertical-align: middle;\n",
              "    }\n",
              "\n",
              "    .dataframe tbody tr th {\n",
              "        vertical-align: top;\n",
              "    }\n",
              "\n",
              "    .dataframe thead th {\n",
              "        text-align: right;\n",
              "    }\n",
              "</style>\n",
              "<table border=\"1\" class=\"dataframe\">\n",
              "  <thead>\n",
              "    <tr style=\"text-align: right;\">\n",
              "      <th></th>\n",
              "      <th>No</th>\n",
              "      <th>Sentence</th>\n",
              "      <th>Label</th>\n",
              "    </tr>\n",
              "  </thead>\n",
              "  <tbody>\n",
              "    <tr>\n",
              "      <th>0</th>\n",
              "      <td>0</td>\n",
              "      <td>&lt;col onpointerup=alert(1)&gt;xss&lt;/col&gt;</td>\n",
              "      <td>1</td>\n",
              "    </tr>\n",
              "    <tr>\n",
              "      <th>1</th>\n",
              "      <td>1</td>\n",
              "      <td>mode=search&amp;m_name=g&amp;initial=1&amp;method=&gt;&lt;script...</td>\n",
              "      <td>1</td>\n",
              "    </tr>\n",
              "    <tr>\n",
              "      <th>2</th>\n",
              "      <td>2</td>\n",
              "      <td>&lt;col draggable=true ondragend=alert(1)&gt;test&lt;/col&gt;</td>\n",
              "      <td>1</td>\n",
              "    </tr>\n",
              "    <tr>\n",
              "      <th>3</th>\n",
              "      <td>3</td>\n",
              "      <td>mode=thread&amp;id=&lt;script&gt;alert(cybershadow)&lt;/scr...</td>\n",
              "      <td>1</td>\n",
              "    </tr>\n",
              "    <tr>\n",
              "      <th>4</th>\n",
              "      <td>4</td>\n",
              "      <td>/vulnerabilities/sqli/</td>\n",
              "      <td>0</td>\n",
              "    </tr>\n",
              "  </tbody>\n",
              "</table>\n",
              "</div>"
            ],
            "text/plain": [
              "   No                                           Sentence  Label\n",
              "0   0                <col onpointerup=alert(1)>xss</col>      1\n",
              "1   1  mode=search&m_name=g&initial=1&method=><script...      1\n",
              "2   2  <col draggable=true ondragend=alert(1)>test</col>      1\n",
              "3   3  mode=thread&id=<script>alert(cybershadow)</scr...      1\n",
              "4   4                             /vulnerabilities/sqli/      0"
            ]
          },
          "execution_count": 3,
          "metadata": {},
          "output_type": "execute_result"
        }
      ],
      "source": [
        "df.head()"
      ]
    },
    {
      "cell_type": "code",
      "execution_count": 4,
      "metadata": {
        "id": "oqYf2rwJrwjU"
      },
      "outputs": [],
      "source": [
        "df=df[df.columns[-2:]]  # Only get sentence and labels"
      ]
    },
    {
      "cell_type": "code",
      "execution_count": 5,
      "metadata": {
        "colab": {
          "base_uri": "https://localhost:8080/",
          "height": 206
        },
        "id": "h8ct4R3ErwjU",
        "outputId": "4fcf10e4-e2c6-425b-ccaf-db0b84f3bb9f"
      },
      "outputs": [
        {
          "data": {
            "text/html": [
              "<div>\n",
              "<style scoped>\n",
              "    .dataframe tbody tr th:only-of-type {\n",
              "        vertical-align: middle;\n",
              "    }\n",
              "\n",
              "    .dataframe tbody tr th {\n",
              "        vertical-align: top;\n",
              "    }\n",
              "\n",
              "    .dataframe thead th {\n",
              "        text-align: right;\n",
              "    }\n",
              "</style>\n",
              "<table border=\"1\" class=\"dataframe\">\n",
              "  <thead>\n",
              "    <tr style=\"text-align: right;\">\n",
              "      <th></th>\n",
              "      <th>Sentence</th>\n",
              "      <th>Label</th>\n",
              "    </tr>\n",
              "  </thead>\n",
              "  <tbody>\n",
              "    <tr>\n",
              "      <th>0</th>\n",
              "      <td>&lt;col onpointerup=alert(1)&gt;xss&lt;/col&gt;</td>\n",
              "      <td>1</td>\n",
              "    </tr>\n",
              "    <tr>\n",
              "      <th>1</th>\n",
              "      <td>mode=search&amp;m_name=g&amp;initial=1&amp;method=&gt;&lt;script...</td>\n",
              "      <td>1</td>\n",
              "    </tr>\n",
              "    <tr>\n",
              "      <th>2</th>\n",
              "      <td>&lt;col draggable=true ondragend=alert(1)&gt;test&lt;/col&gt;</td>\n",
              "      <td>1</td>\n",
              "    </tr>\n",
              "    <tr>\n",
              "      <th>3</th>\n",
              "      <td>mode=thread&amp;id=&lt;script&gt;alert(cybershadow)&lt;/scr...</td>\n",
              "      <td>1</td>\n",
              "    </tr>\n",
              "    <tr>\n",
              "      <th>4</th>\n",
              "      <td>/vulnerabilities/sqli/</td>\n",
              "      <td>0</td>\n",
              "    </tr>\n",
              "  </tbody>\n",
              "</table>\n",
              "</div>"
            ],
            "text/plain": [
              "                                            Sentence  Label\n",
              "0                <col onpointerup=alert(1)>xss</col>      1\n",
              "1  mode=search&m_name=g&initial=1&method=><script...      1\n",
              "2  <col draggable=true ondragend=alert(1)>test</col>      1\n",
              "3  mode=thread&id=<script>alert(cybershadow)</scr...      1\n",
              "4                             /vulnerabilities/sqli/      0"
            ]
          },
          "execution_count": 5,
          "metadata": {},
          "output_type": "execute_result"
        }
      ],
      "source": [
        "df.head()\n",
        "# Tính toán và chuyển đổi về pandas dataframe nếu cần\n",
        "# df = df.compute()"
      ]
    },
    {
      "cell_type": "code",
      "execution_count": 6,
      "metadata": {
        "colab": {
          "base_uri": "https://localhost:8080/",
          "height": 36
        },
        "id": "H4bGMsvfrwjV",
        "outputId": "606aa6fe-c402-4a22-a32f-4e3518a7a3b6"
      },
      "outputs": [
        {
          "data": {
            "text/plain": [
              "'mode=search&m_name=g&initial=1&method=><script>alert(<br/>xssedbycicosz)</script>'"
            ]
          },
          "execution_count": 6,
          "metadata": {},
          "output_type": "execute_result"
        }
      ],
      "source": [
        "# Get Sentences data from data frame\n",
        "sentences=df['Sentence'].values\n",
        "sentences[1]"
      ]
    },
    {
      "cell_type": "code",
      "execution_count": 7,
      "metadata": {
        "colab": {
          "base_uri": "https://localhost:8080/"
        },
        "id": "qb_rKt5hrwjV",
        "outputId": "c0b544af-1cda-4d27-a352-be38520a7da0"
      },
      "outputs": [
        {
          "name": "stdout",
          "output_type": "stream",
          "text": [
            "12000\n"
          ]
        }
      ],
      "source": [
        "print(len(sentences))"
      ]
    },
    {
      "cell_type": "code",
      "execution_count": 8,
      "metadata": {
        "id": "qJSKV1a2rwjV"
      },
      "outputs": [],
      "source": [
        "# Convert to ASCII\n",
        "\n",
        "def convert_to_ascii(sentence):\n",
        "    sentence_ascii=[]\n",
        "\n",
        "    for i in sentence:\n",
        "        \n",
        "        \n",
        "        \"\"\"Some characters have values very big e.d 8221 adn some are chinese letters\n",
        "        I am removing letters having values greater than 8222 and for rest greater \n",
        "        than 128 and smaller than 8222 assigning them values so they can easily be normalized\"\"\"\n",
        "       \n",
        "        if(ord(i)<8222):      # ” has ASCII of 8221\n",
        "            \n",
        "            if(ord(i)==8217): # ’  :  8217\n",
        "                sentence_ascii.append(134)\n",
        "            \n",
        "            \n",
        "            if(ord(i)==8221): # ”  :  8221\n",
        "                sentence_ascii.append(129)\n",
        "                \n",
        "            if(ord(i)==8220): # “  :  8220\n",
        "                sentence_ascii.append(130)\n",
        "                \n",
        "                \n",
        "            if(ord(i)==8216): # ‘  :  8216\n",
        "                sentence_ascii.append(131)\n",
        "                \n",
        "            if(ord(i)==8217): # ’  :  8217\n",
        "                sentence_ascii.append(132)\n",
        "            \n",
        "            if(ord(i)==8211): # –  :  8211\n",
        "                sentence_ascii.append(133)\n",
        "                \n",
        "                \n",
        "            \"\"\"\n",
        "            If values less than 128 store them else discard them\n",
        "            \"\"\"\n",
        "            if (ord(i)<=128):\n",
        "                    sentence_ascii.append(ord(i))\n",
        "    \n",
        "            else:\n",
        "                    pass\n",
        "            \n",
        "\n",
        "    zer=np.zeros((10000))\n",
        "\n",
        "    for i in range(len(sentence_ascii)):\n",
        "        zer[i]=sentence_ascii[i]\n",
        "\n",
        "    zer.shape=(100, 100)\n",
        "\n",
        "\n",
        "#     plt.plot(image)\n",
        "#     plt.show()\n",
        "    return zer\n"
      ]
    },
    {
      "cell_type": "code",
      "execution_count": 9,
      "metadata": {
        "id": "f1UgyHW8rwje"
      },
      "outputs": [],
      "source": [
        "\n",
        "\n",
        "# send each sentence to be converted to ASCII\n",
        "\n",
        "\n",
        "arr=np.zeros((len(sentences),100,100))\n",
        "\n",
        "for i in range(len(sentences)):\n",
        "    \n",
        "    image=convert_to_ascii(sentences[i])\n",
        "\n",
        "    x=np.asarray(image,dtype='float')\n",
        "    image =  cv2.resize(x, dsize=(100,100), interpolation=cv2.INTER_CUBIC)\n",
        "    image/=128\n",
        "\n",
        "    \n",
        "#     if i==1:\n",
        "#         plt.plot(image)\n",
        "#         plt.show()    \n",
        "    arr[i]=image\n",
        "\n"
      ]
    },
    {
      "cell_type": "code",
      "execution_count": 10,
      "metadata": {
        "colab": {
          "base_uri": "https://localhost:8080/"
        },
        "id": "QRZv8Rdwrwjf",
        "outputId": "d6e311c8-c827-43ad-828d-58644d897b9f"
      },
      "outputs": [
        {
          "name": "stdout",
          "output_type": "stream",
          "text": [
            "Input data shape :  (12000, 100, 100)\n"
          ]
        }
      ],
      "source": [
        "print(\"Input data shape : \", arr.shape)"
      ]
    },
    {
      "cell_type": "code",
      "execution_count": 11,
      "metadata": {
        "id": "VXGoYgr7rwjf"
      },
      "outputs": [],
      "source": [
        "# Reshape data for input to CNN\n",
        "data = arr.reshape(arr.shape[0], 100, 100)"
      ]
    },
    {
      "cell_type": "code",
      "execution_count": 12,
      "metadata": {
        "colab": {
          "base_uri": "https://localhost:8080/"
        },
        "id": "XfFZ-PGDrwjf",
        "outputId": "5d485fed-c535-400f-b2e1-df51837c605d"
      },
      "outputs": [
        {
          "data": {
            "text/plain": [
              "(12000, 100, 100)"
            ]
          },
          "execution_count": 12,
          "metadata": {},
          "output_type": "execute_result"
        }
      ],
      "source": [
        "data.shape"
      ]
    },
    {
      "cell_type": "code",
      "execution_count": 13,
      "metadata": {
        "id": "EpzMkAeJrwjg"
      },
      "outputs": [],
      "source": [
        "y=df['Label'].values"
      ]
    },
    {
      "cell_type": "code",
      "execution_count": 14,
      "metadata": {
        "id": "5Ya6W5Yvrwjg"
      },
      "outputs": [],
      "source": [
        "# Split into train/test data\n",
        "from sklearn.model_selection import train_test_split\n",
        "trainX, testX, trainY, testY = train_test_split(data,y, test_size=0.2, random_state=42)"
      ]
    },
    {
      "cell_type": "code",
      "execution_count": 15,
      "metadata": {
        "id": "h8C9zKIOrwjg"
      },
      "outputs": [],
      "source": [
        "# import libraries for Making Model\n",
        "import tensorflow as tf\n",
        "from keras.models import Sequential\n",
        "from keras.layers import Dense, Activation, Conv2D, MaxPooling2D,Flatten,Dropout,MaxPool2D, BatchNormalization"
      ]
    },
    {
      "cell_type": "code",
      "execution_count": 16,
      "metadata": {
        "id": "DunCF-m6rwjg"
      },
      "outputs": [],
      "source": [
        "# A basic CNN Model\n",
        "# Number of layers = 11\n",
        "# Number of Convolutional layer: 3\n",
        "\n",
        "model = tf.keras.models.Sequential([\n",
        "\n",
        "    # The first Bi-LSTM layer\n",
        "    tf.keras.layers.Bidirectional(tf.keras.layers.LSTM(64, return_sequences=True), input_shape=(100, 100)),\n",
        "    \n",
        "    # The second Bi-LSTM layer\n",
        "    tf.keras.layers.Bidirectional(tf.keras.layers.LSTM(128, return_sequences=True)),\n",
        "    \n",
        "    # The third Bi-LSTM layer\n",
        "    tf.keras.layers.Bidirectional(tf.keras.layers.LSTM(256)),\n",
        "\n",
        "    # Dense layers for classification\n",
        "    tf.keras.layers.Dense(256, activation='relu'),\n",
        "    tf.keras.layers.Dense(128, activation='relu'),\n",
        "    tf.keras.layers.Dense(64, activation='relu'),\n",
        "    tf.keras.layers.Dense(1, activation='sigmoid')\n",
        "    \n",
        "])\n"
      ]
    },
    {
      "cell_type": "code",
      "execution_count": 17,
      "metadata": {
        "colab": {
          "base_uri": "https://localhost:8080/"
        },
        "id": "pJl-rhvFrwjg",
        "outputId": "7a14f522-717e-459d-9ce4-cbcb8c05983d"
      },
      "outputs": [
        {
          "name": "stdout",
          "output_type": "stream",
          "text": [
            "Model: \"sequential\"\n",
            "_________________________________________________________________\n",
            " Layer (type)                Output Shape              Param #   \n",
            "=================================================================\n",
            " bidirectional (Bidirectiona  (None, 100, 128)         84480     \n",
            " l)                                                              \n",
            "                                                                 \n",
            " bidirectional_1 (Bidirectio  (None, 100, 256)         263168    \n",
            " nal)                                                            \n",
            "                                                                 \n",
            " bidirectional_2 (Bidirectio  (None, 512)              1050624   \n",
            " nal)                                                            \n",
            "                                                                 \n",
            " dense (Dense)               (None, 256)               131328    \n",
            "                                                                 \n",
            " dense_1 (Dense)             (None, 128)               32896     \n",
            "                                                                 \n",
            " dense_2 (Dense)             (None, 64)                8256      \n",
            "                                                                 \n",
            " dense_3 (Dense)             (None, 1)                 65        \n",
            "                                                                 \n",
            "=================================================================\n",
            "Total params: 1,570,817\n",
            "Trainable params: 1,570,817\n",
            "Non-trainable params: 0\n",
            "_________________________________________________________________\n"
          ]
        }
      ],
      "source": [
        "\n",
        "model.compile(loss='binary_crossentropy', \n",
        "              optimizer='adam', \n",
        "              metrics=['accuracy'])\n",
        "model.summary()"
      ]
    },
    {
      "cell_type": "code",
      "execution_count": 18,
      "metadata": {
        "id": "6WQZB2gGrwjg"
      },
      "outputs": [],
      "source": [
        "# Stop when validation accuracy > 97\n",
        "\n",
        "class myCallback(tf.keras.callbacks.Callback):\n",
        "    def on_epoch_end(self, epoch, logs={}):\n",
        "        if(logs.get('val_accuracy')>0.97):\n",
        "            print(\" \\n Reached 97% + validation accuracy\")\n",
        "            self.model.stop_training=True\n",
        "callbacks = myCallback()"
      ]
    },
    {
      "cell_type": "code",
      "execution_count": 19,
      "metadata": {
        "colab": {
          "background_save": true,
          "base_uri": "https://localhost:8080/"
        },
        "id": "QD8COJz5rwjh",
        "outputId": "12c8a9fb-4553-4f8f-9635-9a363baba2b8"
      },
      "outputs": [
        {
          "name": "stdout",
          "output_type": "stream",
          "text": [
            "Epoch 1/30\n",
            "75/75 [==============================] - 26s 165ms/step - loss: 0.5562 - accuracy: 0.7023 - val_loss: 0.3418 - val_accuracy: 0.8583\n",
            "Epoch 2/30\n",
            "75/75 [==============================] - 9s 125ms/step - loss: 0.2929 - accuracy: 0.8884 - val_loss: 0.3033 - val_accuracy: 0.8712\n",
            "Epoch 3/30\n",
            "75/75 [==============================] - 9s 123ms/step - loss: 0.2076 - accuracy: 0.9240 - val_loss: 0.1882 - val_accuracy: 0.9367\n",
            "Epoch 4/30\n",
            "75/75 [==============================] - 9s 123ms/step - loss: 0.1779 - accuracy: 0.9371 - val_loss: 0.2144 - val_accuracy: 0.9212\n",
            "Epoch 5/30\n",
            "75/75 [==============================] - 9s 123ms/step - loss: 0.1576 - accuracy: 0.9463 - val_loss: 0.1790 - val_accuracy: 0.9400\n",
            "Epoch 6/30\n",
            "75/75 [==============================] - 9s 122ms/step - loss: 0.1638 - accuracy: 0.9431 - val_loss: 0.1875 - val_accuracy: 0.9333\n",
            "Epoch 7/30\n",
            "75/75 [==============================] - 9s 125ms/step - loss: 0.1434 - accuracy: 0.9526 - val_loss: 0.1452 - val_accuracy: 0.9483\n",
            "Epoch 8/30\n",
            "75/75 [==============================] - 9s 124ms/step - loss: 0.1290 - accuracy: 0.9573 - val_loss: 0.1812 - val_accuracy: 0.9337\n",
            "Epoch 9/30\n",
            "75/75 [==============================] - 9s 124ms/step - loss: 0.1271 - accuracy: 0.9590 - val_loss: 0.1640 - val_accuracy: 0.9458\n",
            "Epoch 10/30\n",
            "75/75 [==============================] - 9s 122ms/step - loss: 0.1339 - accuracy: 0.9532 - val_loss: 0.1458 - val_accuracy: 0.9492\n",
            "Epoch 11/30\n",
            "75/75 [==============================] - 9s 123ms/step - loss: 0.1267 - accuracy: 0.9556 - val_loss: 0.1517 - val_accuracy: 0.9467\n",
            "Epoch 12/30\n",
            "75/75 [==============================] - 9s 123ms/step - loss: 0.1178 - accuracy: 0.9610 - val_loss: 0.1315 - val_accuracy: 0.9546\n",
            "Epoch 13/30\n",
            "75/75 [==============================] - 9s 123ms/step - loss: 0.1193 - accuracy: 0.9582 - val_loss: 0.1376 - val_accuracy: 0.9508\n",
            "Epoch 14/30\n",
            "75/75 [==============================] - 9s 124ms/step - loss: 0.1164 - accuracy: 0.9601 - val_loss: 0.1327 - val_accuracy: 0.9579\n",
            "Epoch 15/30\n",
            "75/75 [==============================] - 9s 124ms/step - loss: 0.1028 - accuracy: 0.9664 - val_loss: 0.1408 - val_accuracy: 0.9533\n",
            "Epoch 16/30\n",
            "75/75 [==============================] - 9s 125ms/step - loss: 0.0974 - accuracy: 0.9670 - val_loss: 0.1513 - val_accuracy: 0.9588\n",
            "Epoch 17/30\n",
            "75/75 [==============================] - 9s 125ms/step - loss: 0.0998 - accuracy: 0.9681 - val_loss: 0.1271 - val_accuracy: 0.9567\n",
            "Epoch 18/30\n",
            "75/75 [==============================] - 9s 125ms/step - loss: 0.0929 - accuracy: 0.9701 - val_loss: 0.1197 - val_accuracy: 0.9588\n",
            "Epoch 19/30\n",
            "75/75 [==============================] - 9s 123ms/step - loss: 0.0857 - accuracy: 0.9704 - val_loss: 0.1128 - val_accuracy: 0.9583\n",
            "Epoch 20/30\n",
            "75/75 [==============================] - 9s 123ms/step - loss: 0.0826 - accuracy: 0.9724 - val_loss: 0.1507 - val_accuracy: 0.9588\n",
            "Epoch 21/30\n",
            "75/75 [==============================] - 9s 123ms/step - loss: 0.0862 - accuracy: 0.9705 - val_loss: 0.1712 - val_accuracy: 0.9417\n",
            "Epoch 22/30\n",
            "75/75 [==============================] - 10s 129ms/step - loss: 0.0992 - accuracy: 0.9664 - val_loss: 0.1487 - val_accuracy: 0.9596\n",
            "Epoch 23/30\n",
            "75/75 [==============================] - 9s 127ms/step - loss: 0.0808 - accuracy: 0.9726 - val_loss: 0.1181 - val_accuracy: 0.9625\n",
            "Epoch 24/30\n",
            "75/75 [==============================] - 9s 119ms/step - loss: 0.0784 - accuracy: 0.9727 - val_loss: 0.1244 - val_accuracy: 0.9663\n",
            "Epoch 25/30\n",
            "75/75 [==============================] - 9s 119ms/step - loss: 0.0759 - accuracy: 0.9743 - val_loss: 0.1241 - val_accuracy: 0.9596\n",
            "Epoch 26/30\n",
            "75/75 [==============================] - 13s 170ms/step - loss: 0.0693 - accuracy: 0.9766 - val_loss: 0.1449 - val_accuracy: 0.9617\n",
            "Epoch 27/30\n",
            "75/75 [==============================] - 12s 160ms/step - loss: 0.0628 - accuracy: 0.9782 - val_loss: 0.1689 - val_accuracy: 0.9588\n",
            "Epoch 28/30\n",
            "75/75 [==============================] - 10s 128ms/step - loss: 0.0623 - accuracy: 0.9787 - val_loss: 0.1269 - val_accuracy: 0.9633\n",
            "Epoch 29/30\n",
            "75/75 [==============================] - 12s 162ms/step - loss: 0.0610 - accuracy: 0.9806 - val_loss: 0.1263 - val_accuracy: 0.9654\n",
            "Epoch 30/30\n",
            "75/75 [==============================] - 9s 125ms/step - loss: 0.0567 - accuracy: 0.9818 - val_loss: 0.1163 - val_accuracy: 0.9696\n"
          ]
        }
      ],
      "source": [
        "batch_size = 128\n",
        "num_epoch = 30\n",
        "#model training\n",
        "model_log = model.fit(trainX, trainY,\n",
        "          batch_size=batch_size,\n",
        "          epochs=num_epoch,\n",
        "          verbose=1,\n",
        "          validation_data=( testX,  testY)\n",
        "#                        callbacks=[callbacks]\n",
        "                     )"
      ]
    },
    {
      "cell_type": "code",
      "execution_count": 20,
      "metadata": {},
      "outputs": [
        {
          "data": {
            "image/png": "[encoded data removed]",
            "text/plain": [
              "<Figure size 1200x600 with 1 Axes>"
            ]
          },
          "metadata": {},
          "output_type": "display_data"
        },
        {
          "data": {
            "image/png": "[encoded data removed]",
            "text/plain": [
              "<Figure size 1200x600 with 1 Axes>"
            ]
          },
          "metadata": {},
          "output_type": "display_data"
        }
      ],
      "source": [
        "import matplotlib.pyplot as plt\n",
        "\n",
        "# Vẽ biểu đồ Loss\n",
        "plt.figure(figsize=(12, 6))\n",
        "plt.plot(model_log.history['loss'], label='Train Loss')\n",
        "plt.plot(model_log.history['val_loss'], label='Validation Loss')\n",
        "plt.title('BiLSTM Model Loss')\n",
        "plt.xlabel('Epoch')\n",
        "plt.ylabel('Loss')\n",
        "plt.legend(loc='upper right')\n",
        "plt.grid(True)\n",
        "plt.show()\n",
        "\n",
        "# Vẽ biểu đồ Accuracy\n",
        "plt.figure(figsize=(12, 6))\n",
        "plt.plot(model_log.history['accuracy'], label='Train Accuracy')\n",
        "plt.plot(model_log.history['val_accuracy'], label='Validation Accuracy')\n",
        "plt.title('BiLSTM Model Accuracy')\n",
        "plt.xlabel('Epoch')\n",
        "plt.ylabel('Accuracy')\n",
        "plt.legend(loc='lower right')\n",
        "plt.grid(True)\n",
        "plt.show()\n"
      ]
    },
    {
      "cell_type": "code",
      "execution_count": 21,
      "metadata": {},
      "outputs": [],
      "source": [
        "# model.save(\"../web/models/BiLSTM.keras\")\n",
        "#loaded_model = keras.models.load_model(\"../web/models/BiLSTM.keras\")\n",
        "#assert np.allclose(model.predict(testX), loaded_model.predict(testX))"
      ]
    },
    {
      "cell_type": "code",
      "execution_count": 22,
      "metadata": {
        "colab": {
          "background_save": true
        },
        "id": "LFk-xk6Xrwjh",
        "outputId": "d1925eca-442b-461d-ef18-8d7976354e2a"
      },
      "outputs": [
        {
          "name": "stdout",
          "output_type": "stream",
          "text": [
            "75/75 [==============================] - 5s 38ms/step\n"
          ]
        }
      ],
      "source": [
        "# predict for test set\n",
        "pred=model.predict(testX)\n"
      ]
    },
    {
      "cell_type": "code",
      "execution_count": 23,
      "metadata": {
        "colab": {
          "background_save": true
        },
        "id": "4WonLfuRrwjh"
      },
      "outputs": [],
      "source": [
        "# Threshold values predicted\n",
        "\n",
        "for i in range(len(pred)):\n",
        "    if pred[i]>0.5:\n",
        "        pred[i]=1\n",
        "    elif pred[i]<=0.5:\n",
        "        pred[i]=0\n",
        "\n"
      ]
    },
    {
      "cell_type": "code",
      "execution_count": 24,
      "metadata": {
        "colab": {
          "background_save": true
        },
        "id": "kBq32wL0rwjh",
        "outputId": "3b98e7eb-19df-40b2-c969-bd0d2354afe5"
      },
      "outputs": [
        {
          "name": "stdout",
          "output_type": "stream",
          "text": [
            "correct predicted ::  2327\n",
            "false prediction ::  73\n"
          ]
        }
      ],
      "source": [
        "# Count True predicted and wrong predicted\n",
        "\n",
        "true=0\n",
        "false=0\n",
        "\n",
        "for i in range(len(pred)):\n",
        "    if pred[i] == testY[i]:\n",
        "        true+=1\n",
        "    else:\n",
        "        false+=1\n",
        "        \n",
        "print(\"correct predicted :: \", true)\n",
        "print(\"false prediction :: \", false)"
      ]
    },
    {
      "cell_type": "code",
      "execution_count": 25,
      "metadata": {
        "colab": {
          "background_save": true
        },
        "id": "SksFP-XFrwjh",
        "outputId": "0176bcc9-e51c-44bf-b13b-229c0ba5d1de"
      },
      "outputs": [
        {
          "name": "stdout",
          "output_type": "stream",
          "text": [
            "Attack data in test set ::  1180\n",
            " Benign data in test set ::  1220\n"
          ]
        }
      ],
      "source": [
        "# Number of attack and benign data in test set\n",
        "\n",
        "attack=0\n",
        "benign=0\n",
        "for i in range(len(testY)):\n",
        "    if testY[i]==1:\n",
        "        attack+=1\n",
        "    else:\n",
        "        benign+=1\n",
        "\n",
        "print(\"Attack data in test set :: \", attack)\n",
        "print(\" Benign data in test set :: \", benign)"
      ]
    },
    {
      "cell_type": "markdown",
      "metadata": {
        "id": "HPKb0IJZrwji"
      },
      "source": [
        "### Confusion Matrix"
      ]
    },
    {
      "cell_type": "code",
      "execution_count": 26,
      "metadata": {
        "colab": {
          "background_save": true
        },
        "id": "f4GeX2qyrwji"
      },
      "outputs": [],
      "source": [
        "# Takes True positive, true negative, false positive and false negative as input\n",
        "# Returns Accuracy\n",
        "\n",
        "def accuracy_function(tp,tn,fp,fn):\n",
        "    \n",
        "    accuracy = (tp+tn) / (tp+tn+fp+fn)\n",
        "    \n",
        "    return accuracy"
      ]
    },
    {
      "cell_type": "code",
      "execution_count": 27,
      "metadata": {
        "colab": {
          "background_save": true
        },
        "id": "PSOlFAtjrwji"
      },
      "outputs": [],
      "source": [
        "# Takes True Positive and false positive\n",
        "# Returns Precision\n",
        "\n",
        "def precision_function(tp,fp):\n",
        "    \n",
        "    precision = tp / (tp+fp)\n",
        "    \n",
        "    return precision"
      ]
    },
    {
      "cell_type": "code",
      "execution_count": 28,
      "metadata": {
        "colab": {
          "background_save": true
        },
        "id": "_qHu2fnBrwji"
      },
      "outputs": [],
      "source": [
        "#Takes True Positive and false negative\n",
        "# Returns Recall\n",
        "\n",
        "def recall_function(tp,fn):\n",
        "\n",
        "    recall=tp / (tp+fn)\n",
        "\n",
        "    return recall"
      ]
    },
    {
      "cell_type": "code",
      "execution_count": 29,
      "metadata": {},
      "outputs": [],
      "source": [
        "def f1_function(tp, fp, fn):\n",
        "    precision = tp / (tp + fp) if (tp + fp) > 0 else 0\n",
        "    recall = tp / (tp + fn) if (tp + fn) > 0 else 0\n",
        "    f1 = 2 * (precision * recall) / (precision + recall) if (precision + recall) > 0 else 0\n",
        "    return f1\n"
      ]
    },
    {
      "cell_type": "code",
      "execution_count": 30,
      "metadata": {
        "colab": {
          "background_save": true
        },
        "id": "ma5VnXCvrwji"
      },
      "outputs": [],
      "source": [
        "#Takes true values and predicted\n",
        "# Returns Accuracy, precision and recall\n",
        "\n",
        "\n",
        "#Takes true values and predicted\n",
        "# Returns Accuracy, precision and recall\n",
        "\n",
        "\n",
        "def confusion_matrix(truth,predicted):\n",
        "    \n",
        "    true_positive = 0\n",
        "    true_negative = 0\n",
        "    false_positive = 0\n",
        "    false_negative = 0\n",
        "    \n",
        "    for true,pred in zip(truth,predicted):\n",
        "        if true == 1:\n",
        "            if pred == true:\n",
        "                true_positive += 1\n",
        "            elif pred != true:\n",
        "                false_negative += 1\n",
        "\n",
        "        elif true == 0:\n",
        "            if pred == true:\n",
        "                true_negative += 1\n",
        "            elif pred != true:\n",
        "                false_positive += 1\n",
        "    \n",
        "    accuracy=accuracy_function(true_positive, true_negative, false_positive, false_negative)\n",
        "    precision=precision_function(true_positive, false_positive)\n",
        "    recall=recall_function(true_positive, false_negative)\n",
        "    f1 = f1_function(true_positive,false_positive,false_negative)\n",
        "    \n",
        "    print(f\"True Positive: {true_positive}\")\n",
        "    print(f\"True Negative: {true_negative}\")\n",
        "    print(f\"False Positive: {false_positive}\")\n",
        "    print(f\"False Negative: {false_negative}\")\n",
        "    return (accuracy,\n",
        "            precision,\n",
        "            recall,\n",
        "            f1)"
      ]
    },
    {
      "cell_type": "code",
      "execution_count": 31,
      "metadata": {
        "colab": {
          "background_save": true
        },
        "id": "hWHA4vo5rwji"
      },
      "outputs": [
        {
          "name": "stdout",
          "output_type": "stream",
          "text": [
            "True Positive: 1146\n",
            "True Negative: 1181\n",
            "False Positive: 39\n",
            "False Negative: 34\n",
            " Accuracy : 0.9695833333333334 \n",
            " Precision : 0.9670886075949368 \n",
            " Recall : 0.9711864406779661 \n",
            " F1-score: 0.9691331923890063 \n",
            "Accuracy: 0.9696 \n",
            "Precision: 0.9671 \n",
            "Recall: 0.9712 \n",
            "F1-score: 0.9691\n"
          ]
        }
      ],
      "source": [
        "accuracy, precision, recall, f1=confusion_matrix(testY,pred)\n",
        "print(\" Accuracy : {0} \\n Precision : {1} \\n Recall : {2} \\n F1-score: {3} \".format(accuracy, precision, recall, f1))\n",
        "\n",
        "from sklearn.metrics import accuracy_score, precision_score, recall_score, f1_score\n",
        "\n",
        "# Giả định testY là nhãn thực và pred là nhãn dự đoán\n",
        "accuracy = accuracy_score(testY, pred)\n",
        "precision = precision_score(testY, pred)\n",
        "recall = recall_score(testY, pred)\n",
        "f1 = f1_score(testY, pred)\n",
        "\n",
        "print(\"Accuracy: {0:.4f} \\nPrecision: {1:.4f} \\nRecall: {2:.4f} \\nF1-score: {3:.4f}\".format(accuracy, precision, recall, f1))"
      ]
    },
    {
      "cell_type": "code",
      "execution_count": 33,
      "metadata": {},
      "outputs": [],
      "source": [
        "# from openpyxl import Workbook, load_workbook\n",
        "# from openpyxl.styles import PatternFill, Alignment\n",
        "\n",
        "# models = {\n",
        "#     \"BiLSTM\":2,\n",
        "#     \"LSTM-GAP\":3,\n",
        "#     \"CNN\":4,\n",
        "#     \"CNN-LSTM\":5,\n",
        "#     \"TextCNN\":6\n",
        "# }\n",
        "\n",
        "# file_name = \"model_performance.xlsx\"\n",
        "# try:\n",
        "#     wb = load_workbook(file_name)\n",
        "# except FileNotFoundError:\n",
        "#     # Nếu file không tồn tại, tạo một workbook mới\n",
        "#     wb = Workbook()\n",
        "#     sheet = wb.active\n",
        "#     # Đặt màu nền cho dòng header\n",
        "#     header_fill = PatternFill(start_color=\"92D050\", end_color=\"92D050\", fill_type=\"solid\")\n",
        "\n",
        "#     # Đặt tiêu đề cho các hàng và cột\n",
        "#     sheet.cell(row=1, column=1).value = \"Metric\"\n",
        "#     sheet.cell(row=1, column=1).fill = header_fill\n",
        "#     metrics = [\"Accuracy\", \"Precision\", \"Recall\", \"F1-Score\", \"Correct Predict\", \"False Predict\"]\n",
        "#     for row, metric in enumerate(metrics, start=2):\n",
        "#         cell = sheet.cell(row=row, column=1)\n",
        "#         cell.value = metric\n",
        "    \n",
        "#     for col, model_name in enumerate(models, start=2):\n",
        "#         cell = sheet.cell(row=1, column=col)\n",
        "#         cell.value = model_name\n",
        "#         cell.alignment = Alignment(horizontal=\"center\", vertical=\"center\")\n",
        "#         cell.fill = header_fill\n",
        "\n",
        "#     # Lưu file Excel mới\n",
        "#     wb.save(file_name)\n",
        "#     wb = load_workbook(file_name)\n",
        "\n",
        "# sheet = wb.active\n",
        "# sheet.column_dimensions['A'].width = 15\n",
        "# model_name = \"BiLSTM\"\n",
        "# col = models[model_name]\n",
        "# # Ghi dữ liệu của từng mô hình vào cột tương ứng\n",
        "\n",
        "# sheet.cell(row=2, column=col).value = f\"{accuracy*100:.2f}%\"\n",
        "# sheet.cell(row=2, column=col).alignment = Alignment(horizontal=\"center\", vertical=\"center\")\n",
        "# sheet.cell(row=3, column=col).value = f\"{precision*100:.2f}%\"\n",
        "# sheet.cell(row=3, column=col).alignment = Alignment(horizontal=\"center\", vertical=\"center\")\n",
        "# sheet.cell(row=4, column=col).value = f\"{recall*100:.2f}%\"\n",
        "# sheet.cell(row=4, column=col).alignment = Alignment(horizontal=\"center\", vertical=\"center\")\n",
        "# sheet.cell(row=5, column=col).value = f\"{f1*100:.2f}%\"\n",
        "# sheet.cell(row=5, column=col).alignment = Alignment(horizontal=\"center\", vertical=\"center\")\n",
        "# sheet.cell(row=6, column=col).value = true\n",
        "# sheet.cell(row=6, column=col).alignment = Alignment(horizontal=\"center\", vertical=\"center\")\n",
        "# sheet.cell(row=7, column=col).value = false\n",
        "# sheet.cell(row=7, column=col).alignment = Alignment(horizontal=\"center\", vertical=\"center\")\n",
        "\n",
        "# # Lưu file Excel sau khi thêm dữ liệu\n",
        "# wb.save(file_name)\n"
      ]
    }
  ],
  "metadata": {
    "colab": {
      "provenance": []
    },
    "kernelspec": {
      "display_name": "tf",
      "language": "python",
      "name": "python3"
    },
    "language_info": {
      "codemirror_mode": {
        "name": "ipython",
        "version": 3
      },
      "file_extension": ".py",
      "mimetype": "text/x-python",
      "name": "python",
      "nbconvert_exporter": "python",
      "pygments_lexer": "ipython3",
      "version": "3.9.19"
    }
  },
  "nbformat": 4,
  "nbformat_minor": 0
}
