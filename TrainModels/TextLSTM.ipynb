{
 "cells": [
  {
   "cell_type": "code",
   "execution_count": 1,
   "metadata": {},
   "outputs": [],
   "source": [
    "import numpy as np\n",
    "import pandas as pd\n",
    "import tensorflow as tf\n",
    "from sklearn.model_selection import train_test_split\n",
    "from sklearn.metrics import classification_report\n",
    "from sklearn.metrics import confusion_matrix, accuracy_score, precision_score, recall_score, f1_score\n",
    "import io"
   ]
  },
  {
   "cell_type": "code",
   "execution_count": 2,
   "metadata": {},
   "outputs": [
    {
     "data": {
      "text/html": [
       "<div>\n",
       "<style scoped>\n",
       "    .dataframe tbody tr th:only-of-type {\n",
       "        vertical-align: middle;\n",
       "    }\n",
       "\n",
       "    .dataframe tbody tr th {\n",
       "        vertical-align: top;\n",
       "    }\n",
       "\n",
       "    .dataframe thead th {\n",
       "        text-align: right;\n",
       "    }\n",
       "</style>\n",
       "<table border=\"1\" class=\"dataframe\">\n",
       "  <thead>\n",
       "    <tr style=\"text-align: right;\">\n",
       "      <th></th>\n",
       "      <th>No</th>\n",
       "      <th>Sentence</th>\n",
       "      <th>Label</th>\n",
       "    </tr>\n",
       "  </thead>\n",
       "  <tbody>\n",
       "    <tr>\n",
       "      <th>0</th>\n",
       "      <td>0</td>\n",
       "      <td>boom of the 1980s: rise of &lt;a href=\"/wiki/expe...</td>\n",
       "      <td>0</td>\n",
       "    </tr>\n",
       "    <tr>\n",
       "      <th>1</th>\n",
       "      <td>1</td>\n",
       "      <td>/vulnerabilities/fi/</td>\n",
       "      <td>0</td>\n",
       "    </tr>\n",
       "    <tr>\n",
       "      <th>2</th>\n",
       "      <td>2</td>\n",
       "      <td>&lt;div draggable=\"true\" contenteditable&gt;drag me&lt;...</td>\n",
       "      <td>1</td>\n",
       "    </tr>\n",
       "    <tr>\n",
       "      <th>3</th>\n",
       "      <td>3</td>\n",
       "      <td>&lt;template onmouseleave=\"alert(1)\"&gt;test&lt;/template&gt;</td>\n",
       "      <td>1</td>\n",
       "    </tr>\n",
       "    <tr>\n",
       "      <th>4</th>\n",
       "      <td>4</td>\n",
       "      <td>&lt;style&gt;@keyframes x{from {left:0;}to {left: 10...</td>\n",
       "      <td>1</td>\n",
       "    </tr>\n",
       "  </tbody>\n",
       "</table>\n",
       "</div>"
      ],
      "text/plain": [
       "   No                                           Sentence  Label\n",
       "0   0  boom of the 1980s: rise of <a href=\"/wiki/expe...      0\n",
       "1   1                               /vulnerabilities/fi/      0\n",
       "2   2  <div draggable=\"true\" contenteditable>drag me<...      1\n",
       "3   3  <template onmouseleave=\"alert(1)\">test</template>      1\n",
       "4   4  <style>@keyframes x{from {left:0;}to {left: 10...      1"
      ]
     },
     "execution_count": 2,
     "metadata": {},
     "output_type": "execute_result"
    }
   ],
   "source": [
    "df = pd.read_csv('../dataset/XSS2.csv', encoding='utf-8-sig')\n",
    "df.head()"
   ]
  },
  {
   "cell_type": "code",
   "execution_count": 3,
   "metadata": {},
   "outputs": [
    {
     "data": {
      "text/plain": [
       "Label\n",
       "1    7490\n",
       "0    3703\n",
       "Name: count, dtype: int64"
      ]
     },
     "execution_count": 3,
     "metadata": {},
     "output_type": "execute_result"
    }
   ],
   "source": [
    "df['Label'].value_counts()"
   ]
  },
  {
   "cell_type": "code",
   "execution_count": 4,
   "metadata": {},
   "outputs": [],
   "source": [
    "# Prepocess\n",
    "data = df['Sentence'].values\n",
    "label = df['Label'].values\n",
    "\n",
    "trainX, testX, trainY, testY = train_test_split(data, label, test_size=0.2, random_state=42)"
   ]
  },
  {
   "cell_type": "code",
   "execution_count": 5,
   "metadata": {},
   "outputs": [],
   "source": [
    "from tensorflow.keras.preprocessing.text import Tokenizer\n",
    "\n",
    "# Tokenization and word embedding\n",
    "max_sequence_length = 1000  # Maximum sequence length\n",
    "max_num_words = 1000  # Maximum number of unique words\n",
    "\n",
    "tokenizer = Tokenizer(num_words=max_num_words)\n",
    "tokenizer.fit_on_texts(trainX)"
   ]
  },
  {
   "cell_type": "code",
   "execution_count": null,
   "metadata": {},
   "outputs": [],
   "source": []
  },
  {
   "cell_type": "code",
   "execution_count": 6,
   "metadata": {},
   "outputs": [],
   "source": [
    "import json\n",
    "\n",
    "# Save the tokenizer's word-to-index mapping to a JSON file\n",
    "tokenizer_json = tokenizer.to_json()\n",
    "with open('tokenizer.json', 'w', encoding='utf-8') as json_file:\n",
    "    json.dump(tokenizer_json, json_file, ensure_ascii=False, indent=4)"
   ]
  },
  {
   "cell_type": "code",
   "execution_count": 7,
   "metadata": {},
   "outputs": [],
   "source": [
    "trainX_sequences = tokenizer.texts_to_sequences(trainX)\n",
    "testX_sequenceS = tokenizer.texts_to_sequences(testX)\n"
   ]
  },
  {
   "cell_type": "code",
   "execution_count": 8,
   "metadata": {},
   "outputs": [],
   "source": [
    "from tensorflow.keras.preprocessing.sequence import pad_sequences\n",
    "trainX_padded = pad_sequences(trainX_sequences,max_sequence_length)\n",
    "testX_padded = pad_sequences(testX_sequenceS,max_sequence_length)"
   ]
  },
  {
   "cell_type": "code",
   "execution_count": 9,
   "metadata": {},
   "outputs": [],
   "source": [
    "from sklearn.preprocessing import LabelEncoder\n",
    "\n",
    "#Encoding labels\n",
    "label_encoder = LabelEncoder()\n",
    "\n",
    "y_train =  label_encoder.fit_transform(trainY)\n",
    "y_test = label_encoder.transform(testY)\n"
   ]
  },
  {
   "cell_type": "code",
   "execution_count": 10,
   "metadata": {},
   "outputs": [],
   "source": [
    "from tensorflow.keras.models import Sequential\n",
    "from tensorflow.keras.layers import Embedding, LSTM, Dense\n",
    "\n",
    "# LSTM model configuration\n",
    "embedding_dim = 100   # Dimensionality of the word embeddings\n",
    "lstm_units = 128    # Number of LSTM units\n",
    "\n",
    "model=tf.keras.models.Sequential([\n",
    "\n",
    "    tf.keras.layers.Embedding(input_dim=1000, output_dim=100, input_length=1000),\n",
    "    tf.keras.layers.LSTM(units=128),\n",
    "    tf.keras.layers.Dense(units=128, activation='relu'),\n",
    "    tf.keras.layers.Dense(units=64, activation='relu'),\n",
    "    tf.keras.layers.Dense(units=1, activation='sigmoid')\n",
    "\n",
    "])"
   ]
  },
  {
   "cell_type": "code",
   "execution_count": 11,
   "metadata": {},
   "outputs": [
    {
     "name": "stdout",
     "output_type": "stream",
     "text": [
      "Model: \"sequential\"\n",
      "_________________________________________________________________\n",
      " Layer (type)                Output Shape              Param #   \n",
      "=================================================================\n",
      " embedding (Embedding)       (None, 1000, 100)         100000    \n",
      "                                                                 \n",
      " lstm (LSTM)                 (None, 128)               117248    \n",
      "                                                                 \n",
      " dense (Dense)               (None, 128)               16512     \n",
      "                                                                 \n",
      " dense_1 (Dense)             (None, 64)                8256      \n",
      "                                                                 \n",
      " dense_2 (Dense)             (None, 1)                 65        \n",
      "                                                                 \n",
      "=================================================================\n",
      "Total params: 242,081\n",
      "Trainable params: 242,081\n",
      "Non-trainable params: 0\n",
      "_________________________________________________________________\n"
     ]
    }
   ],
   "source": [
    "model.compile(loss='binary_crossentropy',\n",
    "              optimizer='adam',\n",
    "              metrics=['accuracy'])\n",
    "model.summary()"
   ]
  },
  {
   "cell_type": "code",
   "execution_count": 12,
   "metadata": {},
   "outputs": [],
   "source": [
    "class myCallback(tf.keras.callbacks.Callback):\n",
    "    def on_epoch_end(self, epoch, logs={}):\n",
    "        if(logs.get('val_accuracy') > 0.98):\n",
    "            print(\" \\n Reached 98% + validation accuracy\")\n",
    "            self.model.stop_training=True\n",
    "callbacks = myCallback()"
   ]
  },
  {
   "cell_type": "code",
   "execution_count": 13,
   "metadata": {},
   "outputs": [
    {
     "name": "stdout",
     "output_type": "stream",
     "text": [
      "Shape of trainX: (8954, 1000)\n",
      "Shape of testX: (2239, 1000)\n"
     ]
    }
   ],
   "source": [
    "print(\"Shape of trainX:\", trainX_padded.shape)\n",
    "print(\"Shape of testX:\", testX_padded.shape)"
   ]
  },
  {
   "cell_type": "code",
   "execution_count": 14,
   "metadata": {},
   "outputs": [
    {
     "name": "stdout",
     "output_type": "stream",
     "text": [
      "Epoch 1/50\n",
      "70/70 [==============================] - 15s 161ms/step - loss: 0.2164 - accuracy: 0.9060 - val_loss: 0.0254 - val_accuracy: 0.9911\n",
      "Epoch 2/50\n",
      "70/70 [==============================] - 10s 150ms/step - loss: 0.0143 - accuracy: 0.9960 - val_loss: 0.0164 - val_accuracy: 0.9951\n",
      "Epoch 3/50\n",
      "70/70 [==============================] - 10s 144ms/step - loss: 0.0063 - accuracy: 0.9982 - val_loss: 0.0162 - val_accuracy: 0.9955\n",
      "Epoch 4/50\n",
      "70/70 [==============================] - 10s 145ms/step - loss: 0.0044 - accuracy: 0.9987 - val_loss: 0.0166 - val_accuracy: 0.9955\n",
      "Epoch 5/50\n",
      "70/70 [==============================] - 10s 148ms/step - loss: 0.0035 - accuracy: 0.9990 - val_loss: 0.0166 - val_accuracy: 0.9964\n",
      "Epoch 6/50\n",
      "70/70 [==============================] - 11s 152ms/step - loss: 0.0032 - accuracy: 0.9991 - val_loss: 0.0180 - val_accuracy: 0.9964\n",
      "Epoch 7/50\n",
      "70/70 [==============================] - 11s 150ms/step - loss: 0.0032 - accuracy: 0.9991 - val_loss: 0.0183 - val_accuracy: 0.9964\n",
      "Epoch 8/50\n",
      "70/70 [==============================] - 10s 150ms/step - loss: 0.0028 - accuracy: 0.9992 - val_loss: 0.0211 - val_accuracy: 0.9951\n",
      "Epoch 9/50\n",
      "70/70 [==============================] - 11s 151ms/step - loss: 0.0031 - accuracy: 0.9991 - val_loss: 0.0211 - val_accuracy: 0.9960\n",
      "Epoch 10/50\n",
      "70/70 [==============================] - 10s 150ms/step - loss: 0.0029 - accuracy: 0.9991 - val_loss: 0.0217 - val_accuracy: 0.9969\n",
      "Epoch 11/50\n",
      "70/70 [==============================] - 11s 154ms/step - loss: 0.0029 - accuracy: 0.9991 - val_loss: 0.0228 - val_accuracy: 0.9955\n",
      "Epoch 12/50\n",
      "70/70 [==============================] - 10s 149ms/step - loss: 0.0029 - accuracy: 0.9992 - val_loss: 0.0225 - val_accuracy: 0.9960\n",
      "Epoch 13/50\n",
      "70/70 [==============================] - 11s 151ms/step - loss: 0.0026 - accuracy: 0.9992 - val_loss: 0.0246 - val_accuracy: 0.9951\n",
      "Epoch 14/50\n",
      "70/70 [==============================] - 11s 156ms/step - loss: 0.0025 - accuracy: 0.9992 - val_loss: 0.0243 - val_accuracy: 0.9960\n",
      "Epoch 15/50\n",
      "70/70 [==============================] - 10s 147ms/step - loss: 0.0028 - accuracy: 0.9991 - val_loss: 0.0246 - val_accuracy: 0.9964\n",
      "Epoch 16/50\n",
      "70/70 [==============================] - 10s 145ms/step - loss: 0.0029 - accuracy: 0.9992 - val_loss: 0.0263 - val_accuracy: 0.9964\n",
      "Epoch 17/50\n",
      "70/70 [==============================] - 10s 148ms/step - loss: 0.0027 - accuracy: 0.9991 - val_loss: 0.0270 - val_accuracy: 0.9960\n",
      "Epoch 18/50\n",
      "70/70 [==============================] - 11s 151ms/step - loss: 0.0027 - accuracy: 0.9992 - val_loss: 0.0278 - val_accuracy: 0.9964\n",
      "Epoch 19/50\n",
      "70/70 [==============================] - 11s 153ms/step - loss: 0.0026 - accuracy: 0.9991 - val_loss: 0.0279 - val_accuracy: 0.9960\n",
      "Epoch 20/50\n",
      "70/70 [==============================] - 10s 144ms/step - loss: 0.0026 - accuracy: 0.9992 - val_loss: 0.0290 - val_accuracy: 0.9960\n",
      "Epoch 21/50\n",
      "70/70 [==============================] - 10s 144ms/step - loss: 0.0026 - accuracy: 0.9991 - val_loss: 0.0306 - val_accuracy: 0.9946\n",
      "Epoch 22/50\n",
      "70/70 [==============================] - 10s 143ms/step - loss: 0.0026 - accuracy: 0.9992 - val_loss: 0.0298 - val_accuracy: 0.9964\n",
      "Epoch 23/50\n",
      "70/70 [==============================] - 10s 147ms/step - loss: 0.0025 - accuracy: 0.9992 - val_loss: 0.0306 - val_accuracy: 0.9955\n",
      "Epoch 24/50\n",
      "70/70 [==============================] - 10s 146ms/step - loss: 0.0025 - accuracy: 0.9992 - val_loss: 0.0315 - val_accuracy: 0.9955\n",
      "Epoch 25/50\n",
      "70/70 [==============================] - 10s 143ms/step - loss: 0.0028 - accuracy: 0.9992 - val_loss: 0.0323 - val_accuracy: 0.9951\n",
      "Epoch 26/50\n",
      "70/70 [==============================] - 10s 147ms/step - loss: 0.0027 - accuracy: 0.9991 - val_loss: 0.0318 - val_accuracy: 0.9960\n",
      "Epoch 27/50\n",
      "70/70 [==============================] - 10s 145ms/step - loss: 0.0025 - accuracy: 0.9992 - val_loss: 0.0333 - val_accuracy: 0.9951\n",
      "Epoch 28/50\n",
      "70/70 [==============================] - 10s 145ms/step - loss: 0.0027 - accuracy: 0.9992 - val_loss: 0.0336 - val_accuracy: 0.9964\n",
      "Epoch 29/50\n",
      "70/70 [==============================] - 10s 146ms/step - loss: 0.0025 - accuracy: 0.9992 - val_loss: 0.0357 - val_accuracy: 0.9964\n",
      "Epoch 30/50\n",
      "70/70 [==============================] - 10s 144ms/step - loss: 0.0026 - accuracy: 0.9992 - val_loss: 0.0361 - val_accuracy: 0.9964\n",
      "Epoch 31/50\n",
      "70/70 [==============================] - 10s 147ms/step - loss: 0.0025 - accuracy: 0.9992 - val_loss: 0.0359 - val_accuracy: 0.9964\n",
      "Epoch 32/50\n",
      "70/70 [==============================] - 10s 140ms/step - loss: 0.0027 - accuracy: 0.9991 - val_loss: 0.0369 - val_accuracy: 0.9955\n",
      "Epoch 33/50\n",
      "70/70 [==============================] - 10s 148ms/step - loss: 0.0025 - accuracy: 0.9992 - val_loss: 0.0353 - val_accuracy: 0.9964\n",
      "Epoch 34/50\n",
      "70/70 [==============================] - 10s 142ms/step - loss: 0.0026 - accuracy: 0.9992 - val_loss: 0.0377 - val_accuracy: 0.9964\n",
      "Epoch 35/50\n",
      "70/70 [==============================] - 10s 138ms/step - loss: 0.0025 - accuracy: 0.9992 - val_loss: 0.0387 - val_accuracy: 0.9960\n",
      "Epoch 36/50\n",
      "70/70 [==============================] - 10s 144ms/step - loss: 0.0025 - accuracy: 0.9991 - val_loss: 0.0396 - val_accuracy: 0.9964\n",
      "Epoch 37/50\n",
      "70/70 [==============================] - 10s 144ms/step - loss: 0.0025 - accuracy: 0.9991 - val_loss: 0.0399 - val_accuracy: 0.9964\n",
      "Epoch 38/50\n",
      "70/70 [==============================] - 10s 145ms/step - loss: 0.0024 - accuracy: 0.9992 - val_loss: 0.0404 - val_accuracy: 0.9964\n",
      "Epoch 39/50\n",
      "70/70 [==============================] - 10s 145ms/step - loss: 0.0025 - accuracy: 0.9991 - val_loss: 0.0406 - val_accuracy: 0.9964\n",
      "Epoch 40/50\n",
      "70/70 [==============================] - 10s 141ms/step - loss: 0.0026 - accuracy: 0.9993 - val_loss: 0.0423 - val_accuracy: 0.9955\n",
      "Epoch 41/50\n",
      "70/70 [==============================] - 10s 144ms/step - loss: 0.0027 - accuracy: 0.9992 - val_loss: 0.0435 - val_accuracy: 0.9946\n",
      "Epoch 42/50\n",
      "70/70 [==============================] - 10s 149ms/step - loss: 0.0316 - accuracy: 0.9940 - val_loss: 0.0332 - val_accuracy: 0.9857\n",
      "Epoch 43/50\n",
      "70/70 [==============================] - 10s 146ms/step - loss: 0.0072 - accuracy: 0.9974 - val_loss: 0.0149 - val_accuracy: 0.9955\n",
      "Epoch 44/50\n",
      "70/70 [==============================] - 10s 149ms/step - loss: 0.0037 - accuracy: 0.9989 - val_loss: 0.0122 - val_accuracy: 0.9960\n",
      "Epoch 45/50\n",
      "70/70 [==============================] - 11s 150ms/step - loss: 0.0030 - accuracy: 0.9991 - val_loss: 0.0147 - val_accuracy: 0.9964\n",
      "Epoch 46/50\n",
      "70/70 [==============================] - 10s 149ms/step - loss: 0.0027 - accuracy: 0.9992 - val_loss: 0.0163 - val_accuracy: 0.9960\n",
      "Epoch 47/50\n",
      "70/70 [==============================] - 10s 149ms/step - loss: 0.0028 - accuracy: 0.9992 - val_loss: 0.0180 - val_accuracy: 0.9960\n",
      "Epoch 48/50\n",
      "70/70 [==============================] - 11s 150ms/step - loss: 0.0027 - accuracy: 0.9993 - val_loss: 0.0177 - val_accuracy: 0.9964\n",
      "Epoch 49/50\n",
      "70/70 [==============================] - 10s 148ms/step - loss: 0.0025 - accuracy: 0.9992 - val_loss: 0.0212 - val_accuracy: 0.9960\n",
      "Epoch 50/50\n",
      "70/70 [==============================] - 10s 150ms/step - loss: 0.0027 - accuracy: 0.9992 - val_loss: 0.0179 - val_accuracy: 0.9964\n"
     ]
    }
   ],
   "source": [
    "batch_size = 128\n",
    "num_epoch = 50\n",
    "#model training\n",
    "model_log = model.fit(trainX_padded, y_train,\n",
    "          batch_size=batch_size,\n",
    "          epochs=num_epoch,\n",
    "          verbose=1,\n",
    "          validation_data=( testX_padded,  y_test)\n",
    "#                        callbacks=[callbacks]\n",
    "                     )"
   ]
  },
  {
   "cell_type": "code",
   "execution_count": 15,
   "metadata": {},
   "outputs": [
    {
     "data": {
      "image/png": "[encoded data removed]",
      "text/plain": [
       "<Figure size 1200x600 with 1 Axes>"
      ]
     },
     "metadata": {},
     "output_type": "display_data"
    },
    {
     "data": {
      "image/png": "[encoded data removed]",
      "text/plain": [
       "<Figure size 1200x600 with 1 Axes>"
      ]
     },
     "metadata": {},
     "output_type": "display_data"
    }
   ],
   "source": [
    "import matplotlib.pyplot as plt\n",
    "\n",
    "# Vẽ biểu đồ Loss\n",
    "plt.figure(figsize=(12, 6))\n",
    "plt.plot(model_log.history['loss'], label='Train Loss')\n",
    "plt.plot(model_log.history['val_loss'], label='Validation Loss')\n",
    "plt.title('TextLSTM Model Loss')\n",
    "plt.xlabel('Epoch')\n",
    "plt.ylabel('Loss')\n",
    "plt.legend(loc='upper right')\n",
    "plt.grid(True)\n",
    "plt.show()\n",
    "\n",
    "# Vẽ biểu đồ Accuracy\n",
    "plt.figure(figsize=(12, 6))\n",
    "plt.plot(model_log.history['accuracy'], label='Train Accuracy')\n",
    "plt.plot(model_log.history['val_accuracy'], label='Validation Accuracy')\n",
    "plt.title('TextLSTM Model Accuracy')\n",
    "plt.xlabel('Epoch')\n",
    "plt.ylabel('Accuracy')\n",
    "plt.legend(loc='lower right')\n",
    "plt.grid(True)\n",
    "plt.show()"
   ]
  },
  {
   "cell_type": "code",
   "execution_count": 16,
   "metadata": {},
   "outputs": [],
   "source": [
    "model.save(\"../web/models/LSTM.keras\")\n",
    "#loaded_model = keras.models.load_model(\"../web/models/LSTM.keras\")\n",
    "#assert np.allclose(model.predict(testX), loaded_model.predict(testX))"
   ]
  },
  {
   "cell_type": "code",
   "execution_count": 17,
   "metadata": {},
   "outputs": [
    {
     "name": "stdout",
     "output_type": "stream",
     "text": [
      "70/70 [==============================] - 3s 38ms/step\n",
      "Accuracy: 0.9964269763287181\n",
      "Precision: 0.997968855788761\n",
      "Recall: 0.9966193373901284\n",
      "F1-Score: 0.9972936400541272\n"
     ]
    }
   ],
   "source": [
    "from sklearn.metrics import accuracy_score, precision_score, recall_score, f1_score\n",
    "\n",
    "# Bước 1: Dự đoán nhãn\n",
    "y_pred_prob = model.predict(testX_padded)  # Dự đoán xác suất nhãn\n",
    "y_pred = (y_pred_prob > 0.5).astype(int)   # Chuyển đổi xác suất thành nhãn nhị phân (ngưỡng 0.5)\n",
    "\n",
    "# Bước 2: Tính Accuracy, Precision, Recall, F1-Score\n",
    "accuracy = accuracy_score(y_test, y_pred)\n",
    "precision = precision_score(y_test, y_pred)\n",
    "recall = recall_score(y_test, y_pred)\n",
    "f1 = f1_score(y_test, y_pred)\n",
    "\n",
    "# Bước 3: In kết quả\n",
    "print(\"Accuracy:\", accuracy)\n",
    "print(\"Precision:\", precision)\n",
    "print(\"Recall:\", recall)\n",
    "print(\"F1-Score:\", f1)\n"
   ]
  }
 ],
 "metadata": {
  "kernelspec": {
   "display_name": "tf",
   "language": "python",
   "name": "python3"
  },
  "language_info": {
   "codemirror_mode": {
    "name": "ipython",
    "version": 3
   },
   "file_extension": ".py",
   "mimetype": "text/x-python",
   "name": "python",
   "nbconvert_exporter": "python",
   "pygments_lexer": "ipython3",
   "version": "3.9.19"
  }
 },
 "nbformat": 4,
 "nbformat_minor": 2
}
